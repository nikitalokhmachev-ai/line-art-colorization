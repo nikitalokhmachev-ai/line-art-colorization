{
 "cells": [
  {
   "cell_type": "code",
   "execution_count": 6,
   "metadata": {},
   "outputs": [],
   "source": [
    "import cv2\n",
    "import numpy as np\n",
    "from PIL import Image\n",
    "import requests"
   ]
  },
  {
   "cell_type": "code",
   "execution_count": 7,
   "metadata": {},
   "outputs": [],
   "source": [
    "# Difference of Gaussians applied to img input\n",
    "def dog(img,size=(0,0),k=1.6,sigma=0.5,gamma=1):\n",
    "\timg1 = cv2.GaussianBlur(img,size,sigma)\n",
    "\timg2 = cv2.GaussianBlur(img,size,sigma*k)\n",
    "\treturn (img1-gamma*img2)\n",
    "\n",
    "# Threshold the dog image, with dog(sigma,k) > 0 ? 1(255):0(0)\n",
    "def edge_dog(img,sigma=0.5,k=200,gamma=0.98):\n",
    "\taux = dog(img,sigma=sigma,k=k,gamma=0.98)\n",
    "\tfor i in range(0,aux.shape[0]):\n",
    "\t\tfor j in range(0,aux.shape[1]):\n",
    "\t\t\tif(aux[i,j] > 0):\n",
    "\t\t\t\taux[i,j] = 255\n",
    "\t\t\telse:\n",
    "\t\t\t\taux[i,j] = 0\n",
    "\treturn aux\n",
    "\n",
    "# garygrossi xdog version\n",
    "def xdog_garygrossi(img,sigma=0.5,k=200, gamma=0.98,epsilon=0.1,phi=10):\n",
    "\taux = dog(img,sigma=sigma,k=k,gamma=gamma)/255\n",
    "\tfor i in range(0,aux.shape[0]):\n",
    "\t\tfor j in range(0,aux.shape[1]):\n",
    "\t\t\tif(aux[i,j] >= epsilon):\n",
    "\t\t\t\taux[i,j] = 1\n",
    "\t\t\telse:\n",
    "\t\t\t\tht = np.tanh(phi*(aux[i][j] - epsilon))\n",
    "\t\t\t\taux[i][j] = 1 + ht\n",
    "\treturn aux*255\n",
    "\n",
    "def hatchBlend(image):\n",
    "\txdogImage = xdog(image,sigma=1,k=200, gamma=0.5,epsilon=-0.5,phi=10)\n",
    "\thatchTexture = cv2.imread('./imgs/hatch.jpg', cv2.CV_LOAD_IMAGE_GRAYSCALE)\n",
    "\thatchTexture = cv2.resize(hatchTexture,(image.shape[1],image.shape[0]))\n",
    "\talpha = 0.120\n",
    "\treturn (1-alpha)*xdogImage + alpha*hatchTexture\n",
    "\n",
    "# version of xdog inspired by article\n",
    "def xdog(img,sigma=0.5,k=1.6, gamma=1,epsilon=1,phi=1):\n",
    "\taux = dog(img,sigma=sigma,k=k,gamma=gamma)/255\n",
    "\tfor i in range(0,aux.shape[0]):\n",
    "\t\tfor j in range(0,aux.shape[1]):\n",
    "\t\t\tif(aux[i,j] < epsilon):\n",
    "\t\t\t\taux[i,j] = 1*255\n",
    "\t\t\telse:\n",
    "\t\t\t\taux[i,j] = 255*(1 + np.tanh(phi*(aux[i,j])))\n",
    "\treturn aux"
   ]
  },
  {
   "cell_type": "code",
   "execution_count": 8,
   "metadata": {},
   "outputs": [],
   "source": [
    "def to_sketch(img_orig, sigma=0.4, k=4.5, gamma=0.92, epsilon=-1, phi=10e15, area_min=2):\n",
    "    img_cnts = []\n",
    "    img = cv2.cvtColor(np.array(img_orig), cv2.COLOR_RGB2GRAY)\n",
    "    img_xdog = xdog(img, sigma=sigma, k=k, gamma=gamma, epsilon=epsilon, phi=phi).astype(np.uint8)\n",
    "    new_img = np.zeros_like(img_xdog)\n",
    "    thresh = cv2.threshold(img_xdog, 0, 255, cv2.THRESH_BINARY_INV | cv2.THRESH_OTSU)[1]\n",
    "    cnts = cv2.findContours(thresh.copy(), cv2.RETR_TREE, cv2.CHAIN_APPROX_SIMPLE)\n",
    "    cnts = cnts[0] if len(cnts) == 2 else cnts[1]\n",
    "    for c in cnts:\n",
    "        area = cv2.contourArea(c)\n",
    "        if area > area_min:\n",
    "            img_cnts.append(c)\n",
    "\n",
    "    return Image.fromarray(255 - cv2.drawContours(new_img, img_cnts, -1, (255,255,255), -1))"
   ]
  }
 ],
 "metadata": {
  "kernelspec": {
   "display_name": "Python 3",
   "language": "python",
   "name": "python3"
  },
  "language_info": {
   "codemirror_mode": {
    "name": "ipython",
    "version": 3
   },
   "file_extension": ".py",
   "mimetype": "text/x-python",
   "name": "python",
   "nbconvert_exporter": "python",
   "pygments_lexer": "ipython3",
   "version": "3.6.10"
  }
 },
 "nbformat": 4,
 "nbformat_minor": 4
}
